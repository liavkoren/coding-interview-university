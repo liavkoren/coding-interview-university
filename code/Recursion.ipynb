{
 "cells": [
  {
   "cell_type": "markdown",
   "metadata": {},
   "source": [
    "[Python tutor visualization](http://pythontutor.com/visualize.html#code=class%20Node%3A%0A%20%20%20%20def%20__init__%28self,%20data,%20next%3DNone%29%3A%0A%20%20%20%20%20%20%20%20self.data%20%3D%20data%0A%20%20%20%20%20%20%20%20self.next%20%3D%20next%0A%20%20%20%20%20%20%20%20%0A%20%20%20%20def%20__repr__%28self%29%3A%0A%20%20%20%20%20%20%20%20return%20f'Node%28data%3D%7Bself.data%7D,%20next%3D%7Bself.next%7D%29'%0A%0Anode3%20%3D%20Node%28data%3D3%29%0Anode2%20%3D%20Node%28data%3D2,%20next%3Dnode3%29%0Anode1%20%3D%20Node%28data%3D1,%20next%3Dnode2%29%0Ahead%20%3D%20node1%0A%0Adef%20reverse%28head%29%3A%0A%20%20%20%20def%20reverseUtil%28curr,%20prev%29%3A%0A%20%20%20%20%20%20%20%20%20%20%20%20global%20head%0A%20%20%20%20%20%20%20%20%20%20%20%20%23%20If%20last%20node%20mark%20it%20head%0A%20%20%20%20%20%20%20%20%20%20%20%20if%20curr.next%20is%20None%3A%0A%20%20%20%20%20%20%20%20%20%20%20%20%20%20%20%20head%20%3D%20curr%0A%20%20%20%20%20%20%20%20%20%20%20%20%20%20%20%20%23%20Update%20next%20to%20prev%20node%0A%20%20%20%20%20%20%20%20%20%20%20%20%20%20%20%20curr.next%20%3D%20prev%0A%20%20%20%20%20%20%20%20%20%20%20%20%20%20%20%20return%0A%0A%20%20%20%20%20%20%20%20%20%20%20%20%23%20Save%20curr.next%20node%20for%20recursive%20call%0A%20%20%20%20%20%20%20%20%20%20%20%20next%20%3D%20curr.next%0A%0A%20%20%20%20%20%20%20%20%20%20%20%20%23%20And%20update%20next%0A%20%20%20%20%20%20%20%20%20%20%20%20curr.next%20%3D%20prev%0A%20%20%20%20%20%20%20%20%20%20%20%20reverseUtil%28next,%20curr%29%0A%0A%20%20%20%20if%20head%20is%20None%3A%0A%20%20%20%20%20%20%20%20return%0A%0A%20%20%20%20return%20reverseUtil%28head,%20None%29%0A%0A%0Aprint%28node1%29%0Areverse%28node1%29%0Aprint%28node3%29&cumulative=false&curInstr=44&heapPrimitives=false&mode=display&origin=opt-frontend.js&py=3&rawInputLstJSON=%5B%5D&textReferences=false)"
   ]
  },
  {
   "cell_type": "code",
   "execution_count": 66,
   "metadata": {},
   "outputs": [
    {
     "name": "stdout",
     "output_type": "stream",
     "text": [
      "Node(data=1, next=Node(data=2, next=Node(data=3, next=Node(data=4, next=None))))\n",
      "Node(data=4, next=Node(data=3, next=Node(data=2, next=Node(data=1, next=None))))\n",
      "None\n",
      "[]\n",
      "Node(data=1, next=None)\n",
      "Node(data=1, next=Node(data=2, next=Node(data=3, next=Node(data=4, next=None))))\n"
     ]
    }
   ],
   "source": [
    "class Node:\n",
    "    def __init__(self, data, next=None):\n",
    "        self.data = data\n",
    "        self.next = next\n",
    "        \n",
    "    def __repr__(self):\n",
    "        return f'Node(data={self.data}, next={self.next})'\n",
    "\n",
    "node4 = Node(data=4)\n",
    "node3 = Node(data=3, next=node4)\n",
    "node2 = Node(data=2, next=node3)\n",
    "node1 = Node(data=1, next=node2)\n",
    "print(node1)\n",
    "\n",
    "\n",
    "def reverse_recurse(linked_list):\n",
    "    if not linked_list or linked_list.next is None:\n",
    "        return linked_list\n",
    "    \n",
    "    def inner(prev_node, curr_node):\n",
    "        if curr_node is None:\n",
    "            return prev_node\n",
    "        next_node = curr_node.next\n",
    "        curr_node.next = prev_node\n",
    "        return inner(curr_node, next_node)        \n",
    "    return inner(None, linked_list)\n",
    "    \n",
    "reversed_list = reverse_recurse(node1)\n",
    "print(reversed_list)\n",
    "\n",
    "print(reverse_recurse(None))\n",
    "print(reverse_recurse([]))\n",
    "print(reverse_recurse(node1))\n",
    "print(reverse_recurse(node4))"
   ]
  },
  {
   "cell_type": "code",
   "execution_count": 85,
   "metadata": {},
   "outputs": [
    {
     "name": "stdout",
     "output_type": "stream",
     "text": [
      "Node(data=1, prev=None, next=Node(data=2, prev=1, next=Node(data=3, prev=2, next=Node(data=4, prev=3, next=None))))\n"
     ]
    }
   ],
   "source": [
    "class DoubleNode:\n",
    "    def __init__(self, data, prev=None, next=None):\n",
    "        self.data = data\n",
    "        self.next = next\n",
    "        self.prev = prev\n",
    "        \n",
    "    def __repr__(self):\n",
    "        if self.prev and self.next:\n",
    "            return f'Node(data={self.data}, prev={self.prev.data}, next={self.next})'\n",
    "        elif self.prev:\n",
    "            return f'Node(data={self.data}, prev={self.prev.data}, next=None)'\n",
    "        elif self.next:\n",
    "            return f'Node(data={self.data}, prev=None, next={self.next})'\n",
    "        else:\n",
    "            return f'Node(data={self.data}, prev=None, next=None)'\n",
    "            \n",
    "            \n",
    "            \n",
    "\n",
    "node4 = DoubleNode(data=4)\n",
    "node3 = DoubleNode(data=3, next=node4)\n",
    "node2 = DoubleNode(data=2, next=node3)\n",
    "node1 = DoubleNode(data=1, next=node2)\n",
    "node2.prev = node1\n",
    "node3.prev = node2\n",
    "node4.prev = node3\n",
    "\n",
    "print(node1)"
   ]
  },
  {
   "cell_type": "code",
   "execution_count": 89,
   "metadata": {},
   "outputs": [
    {
     "name": "stdout",
     "output_type": "stream",
     "text": [
      "Node(data=1, prev=None, next=None)\n",
      "Node(data=4, prev=None, next=Node(data=3, prev=4, next=Node(data=2, prev=3, next=Node(data=1, prev=None, next=None))))\n",
      "[]\n",
      "None\n",
      "Node(data=10, prev=None, next=None)\n",
      "Node(data=a, prev=None, next=Node(data=b, prev=a, next=None))\n",
      "Node(data=b, prev=a, next=None)\n",
      "Node(data=b, prev=None, next=Node(data=a, prev=b, next=None))\n",
      "Node(data=a, prev=b, next=None)\n",
      "Node(data=b, prev=None, next=Node(data=a, prev=b, next=None))\n"
     ]
    }
   ],
   "source": [
    "def reverse_doubly(linked_list):\n",
    "    if not linked_list or linked_list.next is None and linked_list.prev is None:\n",
    "        return linked_list\n",
    "    \n",
    "    def inner(prev_node, curr_node):\n",
    "        next_node = curr_node.next\n",
    "        curr_node.prev = next_node\n",
    "        curr_node.next = prev_node\n",
    "        if next_node:\n",
    "            return inner(curr_node, next_node)\n",
    "        else:\n",
    "            return curr_node\n",
    "    return inner(None, linked_list)\n",
    "\n",
    "print(node1)\n",
    "revered_list = reverse_doubly(node1)\n",
    "print(node4)\n",
    "print(reverse_doubly([]))\n",
    "print(reverse_doubly(None))\n",
    "print(reverse_doubly(DoubleNode(data=10)))\n"
   ]
  },
  {
   "cell_type": "code",
   "execution_count": 100,
   "metadata": {},
   "outputs": [
    {
     "data": {
      "text/plain": [
       "1023"
      ]
     },
     "execution_count": 100,
     "metadata": {},
     "output_type": "execute_result"
    }
   ],
   "source": [
    "def C(n, k):\n",
    "    if n == 0 or k == n:\n",
    "        return 1\n",
    "    else:\n",
    "        return C(n-1, k) + C(n-1, k-1)\n",
    "\n",
    "C(10, 1)\n",
    "\n",
    "\n",
    "\n"
   ]
  },
  {
   "cell_type": "code",
   "execution_count": 4,
   "metadata": {
    "collapsed": true
   },
   "outputs": [
    {
     "name": "stdout",
     "output_type": "stream",
     "text": [
      "abcd\n",
      "abdc\n",
      "acbd\n",
      "acdb\n",
      "adbc\n",
      "adcb\n",
      "bacd\n",
      "badc\n",
      "bcad\n",
      "bcda\n",
      "bdac\n",
      "bdca\n",
      "cabd\n",
      "cadb\n",
      "cbad\n",
      "cbda\n",
      "cdab\n",
      "cdba\n",
      "dabc\n",
      "dacb\n",
      "dbac\n",
      "dbca\n",
      "dcab\n",
      "dcba\n"
     ]
    }
   ],
   "source": [
    "def recursive_permute(sofar, rest):\n",
    "    if not rest:\n",
    "        print(sofar)\n",
    "    else:\n",
    "        for index, char in enumerate(rest):\n",
    "            recursive_permute(sofar + char, rest[0:index] + rest[index+1:])\n",
    "\n",
    "recursive_permute('', 'abcd')"
   ]
  },
  {
   "cell_type": "code",
   "execution_count": 17,
   "metadata": {},
   "outputs": [
    {
     "name": "stdout",
     "output_type": "stream",
     "text": [
      "Moved 1 from A to C\n",
      "Moved 2 from A to B\n",
      "Moved 1 from C to B\n",
      "Moved 3 from A to C\n",
      "Moved 1 from B to A\n",
      "Moved 2 from B to C\n",
      "Moved 1 from A to C\n",
      "Moved 4 from A to B\n",
      "Moved 1 from C to B\n",
      "Moved 2 from C to A\n",
      "Moved 1 from B to A\n",
      "Moved 3 from C to B\n",
      "Moved 1 from A to C\n",
      "Moved 2 from A to B\n",
      "Moved 1 from C to B\n",
      "Moved 5 from A to C\n",
      "Moved 1 from B to A\n",
      "Moved 2 from B to C\n",
      "Moved 1 from A to C\n",
      "Moved 3 from B to A\n",
      "Moved 1 from C to B\n",
      "Moved 2 from C to A\n",
      "Moved 1 from B to A\n",
      "Moved 4 from B to C\n",
      "Moved 1 from A to C\n",
      "Moved 2 from A to B\n",
      "Moved 1 from C to B\n",
      "Moved 3 from A to C\n",
      "Moved 1 from B to A\n",
      "Moved 2 from B to C\n",
      "Moved 1 from A to C\n",
      "Moved 6 from A to B\n",
      "Moved 1 from C to B\n",
      "Moved 2 from C to A\n",
      "Moved 1 from B to A\n",
      "Moved 3 from C to B\n",
      "Moved 1 from A to C\n",
      "Moved 2 from A to B\n",
      "Moved 1 from C to B\n",
      "Moved 4 from C to A\n",
      "Moved 1 from B to A\n",
      "Moved 2 from B to C\n",
      "Moved 1 from A to C\n",
      "Moved 3 from B to A\n",
      "Moved 1 from C to B\n",
      "Moved 2 from C to A\n",
      "Moved 1 from B to A\n",
      "Moved 5 from C to B\n",
      "Moved 1 from A to C\n",
      "Moved 2 from A to B\n",
      "Moved 1 from C to B\n",
      "Moved 3 from A to C\n",
      "Moved 1 from B to A\n",
      "Moved 2 from B to C\n",
      "Moved 1 from A to C\n",
      "Moved 4 from A to B\n",
      "Moved 1 from C to B\n",
      "Moved 2 from C to A\n",
      "Moved 1 from B to A\n",
      "Moved 3 from C to B\n",
      "Moved 1 from A to C\n",
      "Moved 2 from A to B\n",
      "Moved 1 from C to B\n"
     ]
    }
   ],
   "source": [
    "def hanoi(height, src, dst, tmp):\n",
    "    if height > 0:\n",
    "        hanoi(height-1, src, tmp, dst)\n",
    "        move_single_disk(height, src, dst)\n",
    "        hanoi(height-1, tmp, dst, src)\n",
    "\n",
    "\n",
    "def move_single_disk(height, source_tower, dest_tower):\n",
    "    print(f'Moved {height} from {source_tower} to {dest_tower}')\n",
    "\n",
    "hanoi(3, 'A', 'B', 'C')\n",
    "\n",
    "class Hanoi:\n",
    "    def __init__(self):\n",
    "        self.a = []\n",
    "        self.b = []\n",
    "        self.c = []\n",
    "    \n",
    "    def __repr__(self):\n",
    "        pass"
   ]
  }
 ],
 "metadata": {
  "kernelspec": {
   "display_name": "Python 3",
   "language": "python",
   "name": "python3"
  },
  "language_info": {
   "codemirror_mode": {
    "name": "ipython",
    "version": 3
   },
   "file_extension": ".py",
   "mimetype": "text/x-python",
   "name": "python",
   "nbconvert_exporter": "python",
   "pygments_lexer": "ipython3",
   "version": "3.6.0"
  }
 },
 "nbformat": 4,
 "nbformat_minor": 2
}
