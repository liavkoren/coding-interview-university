{
 "cells": [
  {
   "cell_type": "markdown",
   "metadata": {},
   "source": [
    "# Bootstrapping interactivity in matplotlib\n",
    "\n",
    "### Goals\n",
    "- draw points and lines\n",
    "- detect mouse events over points and lines\n",
    "- allow points and lines to be dragged\n"
   ]
  },
  {
   "cell_type": "markdown",
   "metadata": {},
   "source": [
    "# Points and lines"
   ]
  },
  {
   "cell_type": "code",
   "execution_count": 29,
   "metadata": {},
   "outputs": [
    {
     "data": {
      "text/plain": [
       "<matplotlib.collections.PathCollection at 0x1067fe438>"
      ]
     },
     "execution_count": 29,
     "metadata": {},
     "output_type": "execute_result"
    }
   ],
   "source": [
    "import matplotlib.pyplot as plt\n",
    "from matplotlib.patches import Circle\n",
    "from matplotlib.lines import Line2D\n",
    "\n",
    "\n",
    "fig = plt.figure()\n",
    "ax = fig.add_subplot(111)\n",
    "x,y = [2, 1], [2, 1]\n",
    "ax.scatter(x, y)"
   ]
  },
  {
   "cell_type": "markdown",
   "metadata": {},
   "source": [
    "# Picking\n",
    "\n",
    "- `Set_picker` to True to cause the Artist to emit PickEvents\n",
    "    http://matplotlib.org/api/_as_gen/matplotlib.artist.Artist.pick.html#matplotlib.artist.Artist.pick\n",
    "    \n",
    "- Use `mpl_connect` method to register an event handler with an event type. Event handlers receive an Event instance. See http://matplotlib.org/users/event_handling.html for Event instance details.\n",
    "- Mouse events include both data coordinates (`xdata`, `ydata`) and screen coordinates (`x`, `y`) in pixels from the bottom and left of the canvas. If a mouse event is over a multipart artist, the ind property indicates which part emitted the event."
   ]
  },
  {
   "cell_type": "code",
   "execution_count": 28,
   "metadata": {},
   "outputs": [
    {
     "data": {
      "image/png": "[encoded data removed]",
      "text/plain": [
       "<matplotlib.figure.Figure at 0x10661c128>"
      ]
     },
     "metadata": {},
     "output_type": "display_data"
    }
   ],
   "source": [
    "def picker(event):\n",
    "    print(f'PICK: xdata: {event.mouseevent.xdata}, ydata: {event.mouseevent.ydata}, x: {event.mouseevent.x}, y: {event.mouseevent.y}, index: {event.ind}')\n",
    "\n",
    "line = Line2D(x, y, mfc='red', ms=12, label='line label')\n",
    "line.set_picker(True)\n",
    "ax.add_line(line)\n",
    "fig.canvas.mpl_connect('pick_event', picker)\n",
    "plt.show()\n"
   ]
  },
  {
   "cell_type": "markdown",
   "metadata": {},
   "source": [
    "# Dragging\n",
    "\n",
    "http://matplotlib.org/examples/event_handling/looking_glass.html\n",
    "http://matplotlib.org/users/event_handling.html (See draggable rect demo & blit animation dragging demo)\n",
    "https://scipy-cookbook.readthedocs.io/items/Matplotlib_Animations.html (old animation recipes)\n"
   ]
  }
 ],
 "metadata": {
  "kernelspec": {
   "display_name": "Python 3",
   "language": "python",
   "name": "python3"
  },
  "language_info": {
   "codemirror_mode": {
    "name": "ipython",
    "version": 3
   },
   "file_extension": ".py",
   "mimetype": "text/x-python",
   "name": "python",
   "nbconvert_exporter": "python",
   "pygments_lexer": "ipython3",
   "version": "3.6.2"
  }
 },
 "nbformat": 4,
 "nbformat_minor": 2
}
