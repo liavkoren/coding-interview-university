{
 "cells": [
  {
   "cell_type": "code",
   "execution_count": 1,
   "metadata": {
    "collapsed": false
   },
   "outputs": [
    {
     "name": "stdout",
     "output_type": "stream",
     "text": [
      "1\n",
      "1\n",
      "└── 2\n",
      "1\n",
      "├── 2\n",
      "└── 3\n",
      "1\n",
      "├── 2\n",
      "│   └── 10\n",
      "└── 3\n"
     ]
    }
   ],
   "source": [
    "import heap\n",
    "my_heap = heap.Heap()\n",
    "\n",
    "\n",
    "def insert_and_print(item):\n",
    "    my_heap.insert(item)\n",
    "    print(my_heap)\n",
    "\n",
    "ins(1)\n",
    "ins(2)\n",
    "ins(3)\n",
    "ins(10)"
   ]
  },
  {
   "cell_type": "code",
   "execution_count": 22,
   "metadata": {
    "collapsed": false
   },
   "outputs": [
    {
     "name": "stdout",
     "output_type": "stream",
     "text": [
      "1\n",
      "├── 0.7\n",
      "│   ├── 1.5\n",
      "│   │   ├── 10\n",
      "│   │   │   ├── 111\n",
      "│   │   │   └── 75\n",
      "│   │   └── 2\n",
      "│   │       ├── 77\n",
      "│   │       └── 2.5\n",
      "│   └── 2\n",
      "│       ├── 5\n",
      "│       │   ├── 82\n",
      "│       │   └── 6\n",
      "│       └── 2\n",
      "│           ├── 20\n",
      "│           └── 20\n",
      "└── 2\n",
      "    ├── 3\n",
      "    │   ├── 6\n",
      "    │   │   └── 50\n",
      "    │   └── 100\n",
      "    └── 55\n",
      "        ├── 103\n",
      "        └── 110\n"
     ]
    }
   ],
   "source": [
    "ins(2)"
   ]
  }
 ],
 "metadata": {
  "kernelspec": {
   "display_name": "Python 3",
   "language": "python",
   "name": "python3"
  },
  "language_info": {
   "codemirror_mode": {
    "name": "ipython",
    "version": 3
   },
   "file_extension": ".py",
   "mimetype": "text/x-python",
   "name": "python",
   "nbconvert_exporter": "python",
   "pygments_lexer": "ipython3",
   "version": "3.6.1"
  }
 },
 "nbformat": 4,
 "nbformat_minor": 0
}
